{
 "cells": [
  {
   "cell_type": "markdown",
   "metadata": {},
   "source": [
    "#  1 Dictionary Data Structure:"
   ]
  },
  {
   "cell_type": "markdown",
   "metadata": {},
   "source": [
    "* List,Tuple,set ===> only to hold individual object\n",
    "*   Dictionary ====>> Key-value pairs (c++ and java it consider as map and parallel and ruby it consider as hash concept)"
   ]
  },
  {
   "cell_type": "code",
   "execution_count": null,
   "metadata": {},
   "outputs": [],
   "source": [
    "### 1.1 difference between set and dist \n",
    "set,list,tuple meant for representation group individual values but dictionary is meant for representing group of key-value phase "
   ]
  },
  {
   "cell_type": "markdown",
   "metadata": {},
   "source": [
    "###  HOW TO CREATE DICT?"
   ]
  },
  {
   "cell_type": "code",
   "execution_count": 1,
   "metadata": {},
   "outputs": [],
   "source": [
    "d={}\n",
    "d=dict()"
   ]
  },
  {
   "cell_type": "code",
   "execution_count": 2,
   "metadata": {},
   "outputs": [
    {
     "name": "stdout",
     "output_type": "stream",
     "text": [
      "{100: 'good', 200: 'morning', 'rich': 'cohen'}\n"
     ]
    }
   ],
   "source": [
    "#d[key]=value\n",
    "d={}\n",
    "d[100]='good'\n",
    "d[200]='morning'\n",
    "d['rich'] ='cohen'\n",
    "print(d)"
   ]
  },
  {
   "cell_type": "code",
   "execution_count": 3,
   "metadata": {},
   "outputs": [
    {
     "name": "stdout",
     "output_type": "stream",
     "text": [
      "morning\n",
      "good\n"
     ]
    }
   ],
   "source": [
    "## How to access elements form the dict:\n",
    "print(d[200])\n",
    "print(d[100])"
   ]
  },
  {
   "cell_type": "code",
   "execution_count": 4,
   "metadata": {},
   "outputs": [
    {
     "ename": "KeyError",
     "evalue": "120",
     "output_type": "error",
     "traceback": [
      "\u001b[1;31m---------------------------------------------------------------------------\u001b[0m",
      "\u001b[1;31mKeyError\u001b[0m                                  Traceback (most recent call last)",
      "\u001b[1;32m<ipython-input-4-fa1a40955654>\u001b[0m in \u001b[0;36m<module>\u001b[1;34m\u001b[0m\n\u001b[1;32m----> 1\u001b[1;33m \u001b[0mprint\u001b[0m\u001b[1;33m(\u001b[0m\u001b[0md\u001b[0m\u001b[1;33m[\u001b[0m\u001b[1;36m120\u001b[0m\u001b[1;33m]\u001b[0m\u001b[1;33m)\u001b[0m\u001b[1;33m\u001b[0m\u001b[1;33m\u001b[0m\u001b[0m\n\u001b[0m",
      "\u001b[1;31mKeyError\u001b[0m: 120"
     ]
    }
   ],
   "source": [
    "print(d[120])"
   ]
  },
  {
   "cell_type": "markdown",
   "metadata": {},
   "source": [
    "### d[key]=value"
   ]
  },
  {
   "cell_type": "code",
   "execution_count": 5,
   "metadata": {},
   "outputs": [
    {
     "name": "stdout",
     "output_type": "stream",
     "text": [
      "{101: 'rama', 102: 'ravi', 103: 'sunny'}\n",
      "{101: 'rama', 102: 'ravi', 103: 'sunny', 400: 'shama'}\n"
     ]
    }
   ],
   "source": [
    "d={101:'ashu',102:'ravi',103:'sunny'}\n",
    "d[101]='rama'\n",
    "print(d)\n",
    "d[400]='shama'\n",
    "print(d)"
   ]
  },
  {
   "cell_type": "markdown",
   "metadata": {},
   "source": [
    "###  Delete:  Once we delete then we cannot use 'd' anymore"
   ]
  },
  {
   "cell_type": "markdown",
   "metadata": {},
   "source": [
    "* **How to delete elements from the dictionary**\n",
    "* **del d[key]"
   ]
  },
  {
   "cell_type": "code",
   "execution_count": 6,
   "metadata": {},
   "outputs": [
    {
     "name": "stdout",
     "output_type": "stream",
     "text": [
      "{102: 'ravi', 103: 'sunny'}\n"
     ]
    }
   ],
   "source": [
    "d={101:'ashu',102:'ravi',103:'sunny'}\n",
    "del d[101]\n",
    "print(d)"
   ]
  },
  {
   "cell_type": "code",
   "execution_count": 7,
   "metadata": {},
   "outputs": [
    {
     "ename": "NameError",
     "evalue": "name 'd' is not defined",
     "output_type": "error",
     "traceback": [
      "\u001b[1;31m---------------------------------------------------------------------------\u001b[0m",
      "\u001b[1;31mNameError\u001b[0m                                 Traceback (most recent call last)",
      "\u001b[1;32m<ipython-input-7-fae18cb68a55>\u001b[0m in \u001b[0;36m<module>\u001b[1;34m\u001b[0m\n\u001b[0;32m      1\u001b[0m \u001b[1;32mdel\u001b[0m \u001b[0md\u001b[0m\u001b[1;33m\u001b[0m\u001b[1;33m\u001b[0m\u001b[0m\n\u001b[1;32m----> 2\u001b[1;33m \u001b[0mprint\u001b[0m\u001b[1;33m(\u001b[0m\u001b[0md\u001b[0m\u001b[1;33m)\u001b[0m\u001b[1;33m\u001b[0m\u001b[1;33m\u001b[0m\u001b[0m\n\u001b[0m",
      "\u001b[1;31mNameError\u001b[0m: name 'd' is not defined"
     ]
    }
   ],
   "source": [
    "del d\n",
    "print(d)"
   ]
  },
  {
   "cell_type": "markdown",
   "metadata": {},
   "source": [
    "### Clear : once we clear d then ,still we can access d"
   ]
  },
  {
   "cell_type": "code",
   "execution_count": 9,
   "metadata": {},
   "outputs": [
    {
     "name": "stdout",
     "output_type": "stream",
     "text": [
      "{101: 'ashu', 102: 'ravi', 103: 'sunny'}\n",
      "{}\n",
      "{777: 'tyna'}\n"
     ]
    }
   ],
   "source": [
    "d={101:'ashu',102:'ravi',103:'sunny'}\n",
    "print(d)\n",
    "d.clear()\n",
    "print(d)\n",
    "d[777]='tyna'\n",
    "print(d)"
   ]
  },
  {
   "cell_type": "code",
   "execution_count": null,
   "metadata": {},
   "outputs": [],
   "source": []
  },
  {
   "cell_type": "markdown",
   "metadata": {},
   "source": [
    "### How to specify multiple Values for the single key"
   ]
  },
  {
   "cell_type": "code",
   "execution_count": 13,
   "metadata": {},
   "outputs": [
    {
     "ename": "NameError",
     "evalue": "name 'p' is not defined",
     "output_type": "error",
     "traceback": [
      "\u001b[1;31m---------------------------------------------------------------------------\u001b[0m",
      "\u001b[1;31mNameError\u001b[0m                                 Traceback (most recent call last)",
      "\u001b[1;32m<ipython-input-13-16e726f571cc>\u001b[0m in \u001b[0;36m<module>\u001b[1;34m\u001b[0m\n\u001b[0;32m      1\u001b[0m \u001b[1;31m#Wrong way\u001b[0m\u001b[1;33m\u001b[0m\u001b[1;33m\u001b[0m\u001b[1;33m\u001b[0m\u001b[0m\n\u001b[1;32m----> 2\u001b[1;33m \u001b[0mp\u001b[0m\u001b[1;33m[\u001b[0m\u001b[1;36m100\u001b[0m\u001b[1;33m]\u001b[0m\u001b[1;33m=\u001b[0m\u001b[1;34m'ashu'\u001b[0m\u001b[1;33m,\u001b[0m\u001b[1;34m'yukta'\u001b[0m\u001b[1;33m,\u001b[0m\u001b[1;34m'sama'\u001b[0m\u001b[1;33m\u001b[0m\u001b[1;33m\u001b[0m\u001b[0m\n\u001b[0m\u001b[0;32m      3\u001b[0m \u001b[0mprint\u001b[0m\u001b[1;33m(\u001b[0m\u001b[0mp\u001b[0m\u001b[1;33m)\u001b[0m\u001b[1;33m\u001b[0m\u001b[1;33m\u001b[0m\u001b[0m\n",
      "\u001b[1;31mNameError\u001b[0m: name 'p' is not defined"
     ]
    }
   ],
   "source": [
    "#Wrong way\n",
    "p[100]='ashu','yukta','sama'\n",
    "print(p)"
   ]
  },
  {
   "cell_type": "code",
   "execution_count": 14,
   "metadata": {},
   "outputs": [
    {
     "name": "stdout",
     "output_type": "stream",
     "text": [
      "{100: ['ashu', 'ram', 'sama']}\n"
     ]
    }
   ],
   "source": [
    "list=['ashu','ram','sama']\n",
    "d={100:list}\n",
    "print(d)"
   ]
  },
  {
   "cell_type": "code",
   "execution_count": null,
   "metadata": {},
   "outputs": [],
   "source": []
  },
  {
   "cell_type": "markdown",
   "metadata": {},
   "source": [
    "# Important functions / methods of dict:"
   ]
  },
  {
   "cell_type": "markdown",
   "metadata": {},
   "source": [
    "### dict()"
   ]
  },
  {
   "cell_type": "code",
   "execution_count": 15,
   "metadata": {},
   "outputs": [
    {
     "name": "stdout",
     "output_type": "stream",
     "text": [
      "{100: 'radha', 200: 'ravi'}\n"
     ]
    }
   ],
   "source": [
    "d=dict({100:'radha',200:'ravi'})\n",
    "print(d)"
   ]
  },
  {
   "cell_type": "markdown",
   "metadata": {},
   "source": [
    "### With list of tuple we can create dict"
   ]
  },
  {
   "cell_type": "code",
   "execution_count": 16,
   "metadata": {},
   "outputs": [
    {
     "name": "stdout",
     "output_type": "stream",
     "text": [
      "{100: 'python', 200: 'java', 300: 'sas'}\n"
     ]
    }
   ],
   "source": [
    "#Tuple of dict\n",
    "d=dict([(100,'python'),(200,'java'),(300,'sas')])\n",
    "print(d)"
   ]
  },
  {
   "cell_type": "code",
   "execution_count": null,
   "metadata": {},
   "outputs": [],
   "source": []
  },
  {
   "cell_type": "markdown",
   "metadata": {},
   "source": [
    "###  update \n",
    "*  How to update dict"
   ]
  },
  {
   "cell_type": "code",
   "execution_count": 18,
   "metadata": {},
   "outputs": [
    {
     "name": "stdout",
     "output_type": "stream",
     "text": [
      "{100: 'c++', 200: 'java', 300: 'sas'}\n",
      "{100: 'c++', 200: 'c', 300: 'sas'}\n"
     ]
    }
   ],
   "source": [
    "d={100: 'python', 200: 'java', 300: 'sas'}\n",
    "d[100]=\"c++\"\n",
    "print(d)\n",
    "d[200]=\"c\"\n",
    "print(d)"
   ]
  },
  {
   "cell_type": "code",
   "execution_count": 46,
   "metadata": {},
   "outputs": [
    {
     "name": "stdout",
     "output_type": "stream",
     "text": [
      "4\n",
      "{101: 'python', 102: 'c++', 103: 'sas', 104: 'r', 'a': 'apple', 'b': 'banana'}\n",
      "6\n"
     ]
    }
   ],
   "source": [
    "d={101: 'python', 102: 'c++', 103: 'sas', 104: 'r'}\n",
    "print(len(d))\n",
    "d1={'a':'apple','b':'banana'}\n",
    "d.update(d1)\n",
    "print(d)\n",
    "print(len(d))"
   ]
  },
  {
   "cell_type": "code",
   "execution_count": null,
   "metadata": {},
   "outputs": [],
   "source": []
  },
  {
   "cell_type": "markdown",
   "metadata": {},
   "source": [
    "### length\n",
    "* len=length"
   ]
  },
  {
   "cell_type": "code",
   "execution_count": 19,
   "metadata": {},
   "outputs": [
    {
     "data": {
      "text/plain": [
       "3"
      ]
     },
     "execution_count": 19,
     "metadata": {},
     "output_type": "execute_result"
    }
   ],
   "source": [
    "len(d)"
   ]
  },
  {
   "cell_type": "markdown",
   "metadata": {},
   "source": [
    "### d.get(key)\n",
    "* When  Corresponding value is not present then it return none\n",
    "        ### d.get(key,defaultvalue)\n",
    "\n",
    "\n",
    "* when corresponding value is present return the value\n",
    "        ### d.get(key)"
   ]
  },
  {
   "cell_type": "code",
   "execution_count": 20,
   "metadata": {},
   "outputs": [
    {
     "data": {
      "text/plain": [
       "'c++'"
      ]
     },
     "execution_count": 20,
     "metadata": {},
     "output_type": "execute_result"
    }
   ],
   "source": [
    "d.get(100)"
   ]
  },
  {
   "cell_type": "code",
   "execution_count": 23,
   "metadata": {},
   "outputs": [
    {
     "name": "stdout",
     "output_type": "stream",
     "text": [
      "python\n"
     ]
    }
   ],
   "source": [
    "print(d.get(500,'python'))"
   ]
  },
  {
   "cell_type": "code",
   "execution_count": 25,
   "metadata": {},
   "outputs": [
    {
     "name": "stdout",
     "output_type": "stream",
     "text": [
      "{100: 'c++', 200: 'c', 300: 'sas'}\n"
     ]
    }
   ],
   "source": [
    "print(d)"
   ]
  },
  {
   "cell_type": "code",
   "execution_count": null,
   "metadata": {},
   "outputs": [],
   "source": []
  },
  {
   "cell_type": "markdown",
   "metadata": {},
   "source": [
    "### pop()"
   ]
  },
  {
   "cell_type": "code",
   "execution_count": 28,
   "metadata": {},
   "outputs": [
    {
     "name": "stdout",
     "output_type": "stream",
     "text": [
      "{100: 'c++', 200: 'c', 300: 'sas'}\n",
      "c++\n",
      "{200: 'c', 300: 'sas'}\n"
     ]
    }
   ],
   "source": [
    "d={100: 'c++', 200: 'c', 300: 'sas'}\n",
    "print(d)\n",
    "print(d.pop(100))\n",
    "print(d)"
   ]
  },
  {
   "cell_type": "code",
   "execution_count": null,
   "metadata": {},
   "outputs": [],
   "source": []
  },
  {
   "cell_type": "markdown",
   "metadata": {},
   "source": [
    "### Popitem()\n",
    "It randomly remove any key value"
   ]
  },
  {
   "cell_type": "code",
   "execution_count": 32,
   "metadata": {},
   "outputs": [
    {
     "name": "stdout",
     "output_type": "stream",
     "text": [
      "{101: 'python', 102: 'c++', 103: 'sas', 104: 'r'}\n",
      "(104, 'r')\n",
      "{101: 'python', 102: 'c++', 103: 'sas'}\n",
      "(103, 'sas')\n",
      "{101: 'python', 102: 'c++'}\n",
      "(102, 'c++')\n",
      "{101: 'python'}\n",
      "(101, 'python')\n",
      "{}\n"
     ]
    }
   ],
   "source": [
    "d={101: 'python', 102: 'c++', 103: 'sas', 104: 'r'}\n",
    "print(d)\n",
    "print(d.popitem())\n",
    "print(d)\n",
    "print(d.popitem())\n",
    "print(d) \n",
    "print(d.popitem())\n",
    "print(d)\n",
    "print(d.popitem())\n",
    "print(d)\n",
    "\n",
    "# print(d.popitem())\n",
    "# print(d)       #gives error "
   ]
  },
  {
   "cell_type": "code",
   "execution_count": null,
   "metadata": {},
   "outputs": [],
   "source": []
  },
  {
   "cell_type": "code",
   "execution_count": 33,
   "metadata": {},
   "outputs": [],
   "source": [
    "## Keys() it return key values\n",
    "### values() it retrun values\n",
    "### items() it retrun (k,v)"
   ]
  },
  {
   "cell_type": "code",
   "execution_count": 39,
   "metadata": {},
   "outputs": [
    {
     "name": "stdout",
     "output_type": "stream",
     "text": [
      "dict_keys([101, 102, 103, 104])\n",
      "101\n",
      "102\n",
      "103\n",
      "104\n",
      "\n",
      "dict_values(['python', 'c++', 'sas', 'r'])\n",
      "python\n",
      "c++\n",
      "sas\n",
      "r\n",
      "\n",
      "dict_items([(101, 'python'), (102, 'c++'), (103, 'sas'), (104, 'r')])\n",
      "101 == python\n",
      "102 == c++\n",
      "103 == sas\n",
      "104 == r\n"
     ]
    }
   ],
   "source": [
    "d={101: 'python', 102: 'c++', 103: 'sas', 104: 'r'}\n",
    "print(d.keys())\n",
    "for k in d.keys():\n",
    "    print(k)\n",
    "    \n",
    "print()\n",
    "\n",
    "print(d.values())\n",
    "for v in d.values():\n",
    "    print(v)\n",
    "print()\n",
    "\n",
    "print(d.items())\n",
    "for k,v in d.items():\n",
    "    print(k,\"==\",v)\n",
    "    "
   ]
  },
  {
   "cell_type": "code",
   "execution_count": null,
   "metadata": {},
   "outputs": [],
   "source": []
  },
  {
   "cell_type": "markdown",
   "metadata": {},
   "source": [
    "### Duplicate "
   ]
  },
  {
   "cell_type": "code",
   "execution_count": 41,
   "metadata": {},
   "outputs": [
    {
     "name": "stdout",
     "output_type": "stream",
     "text": [
      "{101: 'python', 102: 'c++', 103: 'sas', 104: 'r'}\n"
     ]
    }
   ],
   "source": [
    "d={101: 'python', 102: 'c++', 103: 'sas', 104: 'r'}\n",
    "d1=d.copy()\n",
    "print(d1)"
   ]
  },
  {
   "cell_type": "code",
   "execution_count": null,
   "metadata": {},
   "outputs": [],
   "source": []
  },
  {
   "cell_type": "markdown",
   "metadata": {},
   "source": [
    "* If key is available then return corresponding values and if not available then add to dict."
   ]
  },
  {
   "cell_type": "markdown",
   "metadata": {},
   "source": [
    "### d.setdefault(k,v)"
   ]
  },
  {
   "cell_type": "code",
   "execution_count": 43,
   "metadata": {},
   "outputs": [
    {
     "name": "stdout",
     "output_type": "stream",
     "text": [
      "python\n",
      "{101: 'python', 102: 'c++', 103: 'sas', 104: 'r'}\n",
      "c\n",
      "{101: 'python', 102: 'c++', 103: 'sas', 104: 'r', 100: 'c'}\n"
     ]
    }
   ],
   "source": [
    "d={101: 'python', 102: 'c++', 103: 'sas', 104: 'r'}\n",
    "print(d.setdefault(101,'c #'))\n",
    "print(d)\n",
    "print(d.setdefault(100,'c'))\n",
    "print(d)"
   ]
  },
  {
   "cell_type": "code",
   "execution_count": null,
   "metadata": {},
   "outputs": [],
   "source": []
  },
  {
   "cell_type": "code",
   "execution_count": 50,
   "metadata": {},
   "outputs": [
    {
     "name": "stdout",
     "output_type": "stream",
     "text": [
      "enter the word: aaalllooppp\n",
      "{'a': 3, 'l': 3, 'o': 2, 'p': 3}\n"
     ]
    }
   ],
   "source": [
    "### Number of occurances of each letter present in the given string\n",
    "#d['m']=d.get('m',0)+1\n",
    "\n",
    "word=input(\"enter the word: \")\n",
    "d={}\n",
    "for x in word:\n",
    "    d[x]=d.get(x,0)+1\n",
    "print(d)"
   ]
  },
  {
   "cell_type": "code",
   "execution_count": 53,
   "metadata": {},
   "outputs": [
    {
     "name": "stdout",
     "output_type": "stream",
     "text": [
      "enter the word: welcome\n",
      "w occured 1 times\n",
      "e occured 2 times\n",
      "l occured 1 times\n",
      "c occured 1 times\n",
      "o occured 1 times\n",
      "m occured 1 times\n"
     ]
    }
   ],
   "source": [
    "word=input(\"enter the word: \")\n",
    "d={}\n",
    "for x in word:\n",
    "    d[x]=d.get(x,0)+1\n",
    "for k,v in d.items():\n",
    "    print(\"{} occured {} times\".format(k,v))"
   ]
  },
  {
   "cell_type": "code",
   "execution_count": null,
   "metadata": {},
   "outputs": [],
   "source": []
  },
  {
   "cell_type": "code",
   "execution_count": 55,
   "metadata": {},
   "outputs": [
    {
     "name": "stdout",
     "output_type": "stream",
     "text": [
      "enter some word:aashu\n",
      "a occured 2 times\n",
      "u occured 1 times\n"
     ]
    }
   ],
   "source": [
    "word=input(\"enter some word:\")\n",
    "vowels=('a','e','i','o','u')\n",
    "d={}\n",
    "for x in word:\n",
    "    if x in vowels:\n",
    "        d[x]=d.get(x,0)+1\n",
    "for k,v in d.items():\n",
    "    print(\"{} occured {} times\".format(k,v))"
   ]
  },
  {
   "cell_type": "code",
   "execution_count": null,
   "metadata": {},
   "outputs": [],
   "source": []
  },
  {
   "cell_type": "code",
   "execution_count": null,
   "metadata": {},
   "outputs": [],
   "source": []
  },
  {
   "cell_type": "markdown",
   "metadata": {},
   "source": [
    "### Comprehension:"
   ]
  },
  {
   "cell_type": "code",
   "execution_count": 60,
   "metadata": {},
   "outputs": [
    {
     "name": "stdout",
     "output_type": "stream",
     "text": [
      "The squares:  {1: 1, 2: 4, 3: 9, 4: 16, 5: 25}\n",
      "The double of numbers:  {1: 2, 2: 4, 3: 6, 4: 8, 5: 10}\n"
     ]
    }
   ],
   "source": [
    "sq={x:x*x for x in range(1,6)}\n",
    "print(\"The squares: \",sq)\n",
    "double={x:2*x for x in range(1,6)}\n",
    "print(\"The double of numbers: \",double)"
   ]
  },
  {
   "cell_type": "code",
   "execution_count": null,
   "metadata": {},
   "outputs": [],
   "source": []
  },
  {
   "cell_type": "code",
   "execution_count": null,
   "metadata": {},
   "outputs": [],
   "source": []
  }
 ],
 "metadata": {
  "kernelspec": {
   "display_name": "Python 3",
   "language": "python",
   "name": "python3"
  },
  "language_info": {
   "codemirror_mode": {
    "name": "ipython",
    "version": 3
   },
   "file_extension": ".py",
   "mimetype": "text/x-python",
   "name": "python",
   "nbconvert_exporter": "python",
   "pygments_lexer": "ipython3",
   "version": "3.8.5"
  },
  "toc": {
   "base_numbering": "1",
   "nav_menu": {},
   "number_sections": true,
   "sideBar": true,
   "skip_h1_title": false,
   "title_cell": "Table of Contents",
   "title_sidebar": "Contents",
   "toc_cell": false,
   "toc_position": {
    "height": "calc(100% - 180px)",
    "left": "10px",
    "top": "150px",
    "width": "139.92px"
   },
   "toc_section_display": true,
   "toc_window_display": true
  },
  "varInspector": {
   "cols": {
    "lenName": 16,
    "lenType": 16,
    "lenVar": 40
   },
   "kernels_config": {
    "python": {
     "delete_cmd_postfix": "",
     "delete_cmd_prefix": "del ",
     "library": "var_list.py",
     "varRefreshCmd": "print(var_dic_list())"
    },
    "r": {
     "delete_cmd_postfix": ") ",
     "delete_cmd_prefix": "rm(",
     "library": "var_list.r",
     "varRefreshCmd": "cat(var_dic_list()) "
    }
   },
   "types_to_exclude": [
    "module",
    "function",
    "builtin_function_or_method",
    "instance",
    "_Feature"
   ],
   "window_display": false
  }
 },
 "nbformat": 4,
 "nbformat_minor": 4
}
