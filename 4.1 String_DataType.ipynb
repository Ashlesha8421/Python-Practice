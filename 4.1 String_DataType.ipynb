{
 "cells": [
  {
   "cell_type": "markdown",
   "metadata": {},
   "source": [
    "### String (str)\n",
    "* **IMMUTABLE**\n",
    "* **Any sequence of character** "
   ]
  },
  {
   "cell_type": "markdown",
   "metadata": {},
   "source": [
    "### 1.How to access character of the string\n",
    "\n",
    "* ***1.By using INDEX***\n",
    "* ***2.By using Slice Operator***"
   ]
  },
  {
   "cell_type": "code",
   "execution_count": 2,
   "metadata": {},
   "outputs": [],
   "source": [
    "s=\"welcome\""
   ]
  },
  {
   "cell_type": "code",
   "execution_count": 3,
   "metadata": {},
   "outputs": [
    {
     "name": "stdout",
     "output_type": "stream",
     "text": [
      "w\n",
      "e\n"
     ]
    }
   ],
   "source": [
    "print(s[0])\n",
    "print(s[-1])"
   ]
  },
  {
   "cell_type": "markdown",
   "metadata": {},
   "source": [
    "* ****both +ve and -ve index****\n",
    "\n",
    "   * +ve index ===> forward direction(Left to right)\n",
    "   * -ve index ===> backward direction(right to left)"
   ]
  },
  {
   "cell_type": "markdown",
   "metadata": {},
   "source": [
    "* **1.Using Index**"
   ]
  },
  {
   "cell_type": "code",
   "execution_count": 6,
   "metadata": {},
   "outputs": [],
   "source": [
    "#Example by using index\n",
    "## Write a program to accept some string from the keyboard and print all character with index"
   ]
  },
  {
   "cell_type": "code",
   "execution_count": 5,
   "metadata": {},
   "outputs": [
    {
     "name": "stdout",
     "output_type": "stream",
     "text": [
      "Enter some string:ashu\n",
      "The character present at positive index:0 and at negative index:-4 is: a\n",
      "The character present at positive index:1 and at negative index:-3 is: s\n",
      "The character present at positive index:2 and at negative index:-2 is: h\n",
      "The character present at positive index:3 and at negative index:-1 is: u\n"
     ]
    }
   ],
   "source": [
    "s=input(\"Enter some string:\")\n",
    "i=0\n",
    "for x in s:\n",
    "    print(\"The character present at positive index:{} and at negative index:{} is: {}\".format(i,i-len(s),x))\n",
    "    i+=1"
   ]
  },
  {
   "cell_type": "markdown",
   "metadata": {},
   "source": [
    "* **2.using Slice Operator**\n",
    "* syntax=[beginindex:endingindex:step]"
   ]
  },
  {
   "cell_type": "code",
   "execution_count": 8,
   "metadata": {},
   "outputs": [],
   "source": [
    "s='0123456789'"
   ]
  },
  {
   "cell_type": "code",
   "execution_count": 11,
   "metadata": {},
   "outputs": [
    {
     "name": "stdout",
     "output_type": "stream",
     "text": [
      "<class 'str'>\n"
     ]
    }
   ],
   "source": [
    "print(type(s))"
   ]
  },
  {
   "cell_type": "code",
   "execution_count": 12,
   "metadata": {},
   "outputs": [
    {
     "data": {
      "text/plain": [
       "'0123456789'"
      ]
     },
     "execution_count": 12,
     "metadata": {},
     "output_type": "execute_result"
    }
   ],
   "source": [
    "s[:]"
   ]
  },
  {
   "cell_type": "code",
   "execution_count": 16,
   "metadata": {},
   "outputs": [
    {
     "data": {
      "text/plain": [
       "'0246'"
      ]
     },
     "execution_count": 16,
     "metadata": {},
     "output_type": "execute_result"
    }
   ],
   "source": [
    "s[0:7:2]"
   ]
  },
  {
   "cell_type": "code",
   "execution_count": 23,
   "metadata": {},
   "outputs": [
    {
     "data": {
      "text/plain": [
       "'2345'"
      ]
     },
     "execution_count": 23,
     "metadata": {},
     "output_type": "execute_result"
    }
   ],
   "source": [
    "s[-8:-4]"
   ]
  },
  {
   "cell_type": "code",
   "execution_count": 24,
   "metadata": {},
   "outputs": [
    {
     "data": {
      "text/plain": [
       "'0123456789'"
      ]
     },
     "execution_count": 24,
     "metadata": {},
     "output_type": "execute_result"
    }
   ],
   "source": [
    "s[::]"
   ]
  },
  {
   "cell_type": "code",
   "execution_count": 27,
   "metadata": {},
   "outputs": [
    {
     "data": {
      "text/plain": [
       "'97531'"
      ]
     },
     "execution_count": 27,
     "metadata": {},
     "output_type": "execute_result"
    }
   ],
   "source": [
    "s[::-2]## Step value is negative therefore move from right to left"
   ]
  },
  {
   "cell_type": "code",
   "execution_count": 29,
   "metadata": {},
   "outputs": [
    {
     "data": {
      "text/plain": [
       "'9876543210'"
      ]
     },
     "execution_count": 29,
     "metadata": {},
     "output_type": "execute_result"
    }
   ],
   "source": [
    "s[::-1] ##Reverse the string"
   ]
  },
  {
   "cell_type": "code",
   "execution_count": 32,
   "metadata": {},
   "outputs": [
    {
     "data": {
      "text/plain": [
       "''"
      ]
     },
     "execution_count": 32,
     "metadata": {},
     "output_type": "execute_result"
    }
   ],
   "source": [
    "s[2:8:-1]"
   ]
  },
  {
   "cell_type": "code",
   "execution_count": 34,
   "metadata": {},
   "outputs": [
    {
     "data": {
      "text/plain": [
       "'86'"
      ]
     },
     "execution_count": 34,
     "metadata": {},
     "output_type": "execute_result"
    }
   ],
   "source": [
    "s[-2:-6:-2]"
   ]
  },
  {
   "cell_type": "markdown",
   "metadata": {},
   "source": [
    "##Things to note\n",
    "\n",
    "  *  **s[begin : end : step]**\n",
    "  *  step value be +ve and -ve\n",
    "  *  if +ve then it should forward direction (left to right)\n",
    "  *  if -ve then it should backward direction (right to left)\n",
    "\n",
    "  *  if +ve forward direction from begin to end -1\n",
    "  * if -ve backward direction from begin to end + 1\n",
    "  *  **In forward direction**\n",
    "    ---------------------\n",
    "  *  default value for begin : 0\n",
    "  *  default value for end : length of string\n",
    "  *  default value for step :1\n",
    "    \n",
    "  *  **In backward direction:**\n",
    "    ----------------------\n",
    "  *  default value for begin index : -1\n",
    "  *  default value for end:-(length of string +1)\n",
    "  *  default value for step:-1"
   ]
  },
  {
   "cell_type": "code",
   "execution_count": 37,
   "metadata": {},
   "outputs": [
    {
     "data": {
      "text/plain": [
       "'2'"
      ]
     },
     "execution_count": 37,
     "metadata": {},
     "output_type": "execute_result"
    }
   ],
   "source": [
    "s[2:1:-1]"
   ]
  },
  {
   "cell_type": "code",
   "execution_count": 39,
   "metadata": {},
   "outputs": [
    {
     "ename": "SyntaxError",
     "evalue": "invalid syntax (<ipython-input-39-d5d19ff545f3>, line 1)",
     "output_type": "error",
     "traceback": [
      "\u001b[1;36m  File \u001b[1;32m\"<ipython-input-39-d5d19ff545f3>\"\u001b[1;36m, line \u001b[1;32m1\u001b[0m\n\u001b[1;33m    s[]\u001b[0m\n\u001b[1;37m      ^\u001b[0m\n\u001b[1;31mSyntaxError\u001b[0m\u001b[1;31m:\u001b[0m invalid syntax\n"
     ]
    }
   ],
   "source": [
    "s[]"
   ]
  },
  {
   "cell_type": "code",
   "execution_count": 45,
   "metadata": {},
   "outputs": [
    {
     "data": {
      "text/plain": [
       "'5'"
      ]
     },
     "execution_count": 45,
     "metadata": {},
     "output_type": "execute_result"
    }
   ],
   "source": [
    "s[-5:-6:-2]"
   ]
  },
  {
   "cell_type": "code",
   "execution_count": 50,
   "metadata": {},
   "outputs": [
    {
     "data": {
      "text/plain": [
       "'210'"
      ]
     },
     "execution_count": 50,
     "metadata": {},
     "output_type": "execute_result"
    }
   ],
   "source": [
    "s[2::-1]"
   ]
  },
  {
   "cell_type": "code",
   "execution_count": 58,
   "metadata": {},
   "outputs": [
    {
     "data": {
      "text/plain": [
       "'2'"
      ]
     },
     "execution_count": 58,
     "metadata": {},
     "output_type": "execute_result"
    }
   ],
   "source": [
    "s[2:1:-5]"
   ]
  },
  {
   "cell_type": "code",
   "execution_count": 62,
   "metadata": {},
   "outputs": [
    {
     "data": {
      "text/plain": [
       "''"
      ]
     },
     "execution_count": 62,
     "metadata": {},
     "output_type": "execute_result"
    }
   ],
   "source": [
    "s[0:5:-1]"
   ]
  },
  {
   "cell_type": "markdown",
   "metadata": {},
   "source": [
    "### 2.Mathematical Operator"
   ]
  },
  {
   "cell_type": "markdown",
   "metadata": {},
   "source": [
    "* **1.AND**"
   ]
  },
  {
   "cell_type": "code",
   "execution_count": 63,
   "metadata": {},
   "outputs": [],
   "source": [
    "#When both are sting then we use +"
   ]
  },
  {
   "cell_type": "code",
   "execution_count": 64,
   "metadata": {},
   "outputs": [
    {
     "data": {
      "text/plain": [
       "'GOODMORNING'"
      ]
     },
     "execution_count": 64,
     "metadata": {},
     "output_type": "execute_result"
    }
   ],
   "source": [
    "'GOOD'+'MORNING'"
   ]
  },
  {
   "cell_type": "code",
   "execution_count": 65,
   "metadata": {},
   "outputs": [
    {
     "data": {
      "text/plain": [
       "'GOOD3'"
      ]
     },
     "execution_count": 65,
     "metadata": {},
     "output_type": "execute_result"
    }
   ],
   "source": [
    "'GOOD'+'3'"
   ]
  },
  {
   "cell_type": "code",
   "execution_count": 66,
   "metadata": {},
   "outputs": [
    {
     "ename": "TypeError",
     "evalue": "can only concatenate str (not \"int\") to str",
     "output_type": "error",
     "traceback": [
      "\u001b[1;31m---------------------------------------------------------------------------\u001b[0m",
      "\u001b[1;31mTypeError\u001b[0m                                 Traceback (most recent call last)",
      "\u001b[1;32m<ipython-input-66-f6df129280f5>\u001b[0m in \u001b[0;36m<module>\u001b[1;34m\u001b[0m\n\u001b[1;32m----> 1\u001b[1;33m \u001b[1;34m'GOOD'\u001b[0m\u001b[1;33m+\u001b[0m\u001b[1;36m3\u001b[0m\u001b[1;33m\u001b[0m\u001b[1;33m\u001b[0m\u001b[0m\n\u001b[0m",
      "\u001b[1;31mTypeError\u001b[0m: can only concatenate str (not \"int\") to str"
     ]
    }
   ],
   "source": [
    "'GOOD'+3"
   ]
  },
  {
   "cell_type": "code",
   "execution_count": 67,
   "metadata": {},
   "outputs": [],
   "source": [
    "s='good'*3"
   ]
  },
  {
   "cell_type": "code",
   "execution_count": 69,
   "metadata": {},
   "outputs": [
    {
     "name": "stdout",
     "output_type": "stream",
     "text": [
      "goodgoodgood\n"
     ]
    }
   ],
   "source": [
    "print(s)"
   ]
  },
  {
   "cell_type": "code",
   "execution_count": 70,
   "metadata": {},
   "outputs": [
    {
     "data": {
      "text/plain": [
       "12"
      ]
     },
     "execution_count": 70,
     "metadata": {},
     "output_type": "execute_result"
    }
   ],
   "source": [
    "len(s)"
   ]
  },
  {
   "cell_type": "code",
   "execution_count": 71,
   "metadata": {},
   "outputs": [],
   "source": [
    "#write a program to access each char fo string in forward and backward direction\n",
    "#HINT:s[:]==> forward direction\n",
    "#      s[::-1] ===> reverse direction"
   ]
  },
  {
   "cell_type": "code",
   "execution_count": 75,
   "metadata": {},
   "outputs": [
    {
     "name": "stdout",
     "output_type": "stream",
     "text": [
      "Enter some string:ASHU\n",
      "String in forward direction:  ASHU\n",
      "string in backword direction:  UHSA\n",
      "String in forward direction:  ASHU\n",
      "string in backword direction:  UHSA\n",
      "String in forward direction:  ASHU\n",
      "string in backword direction:  UHSA\n",
      "String in forward direction:  ASHU\n",
      "string in backword direction:  UHSA\n"
     ]
    }
   ],
   "source": [
    "#By using for loop\n",
    "s=input(\"Enter some string:\")\n",
    "for x in s:\n",
    "    print(\"String in forward direction: \",s[:])\n",
    "    print(\"string in backword direction: \",s[::-1])"
   ]
  },
  {
   "cell_type": "code",
   "execution_count": 78,
   "metadata": {},
   "outputs": [
    {
     "name": "stdout",
     "output_type": "stream",
     "text": [
      "Enter some string: ashu\n",
      "String in forward Direction:\n",
      "ashu\n",
      "String in Backword Direction:\n",
      "uhsa"
     ]
    }
   ],
   "source": [
    "#By using while loop\n",
    "s=input(\"Enter some string: \")\n",
    "n=len(s)\n",
    "i=0\n",
    "print(\"String in forward Direction:\")\n",
    "while i<n:\n",
    "    print(s[i],end='')\n",
    "    i=i+1\n",
    "print()\n",
    "print(\"String in Backword Direction:\")\n",
    "i=n-1\n",
    "while i>=0:\n",
    "    print(s[i],end='')\n",
    "    i=i-1"
   ]
  },
  {
   "cell_type": "code",
   "execution_count": 82,
   "metadata": {},
   "outputs": [
    {
     "name": "stdout",
     "output_type": "stream",
     "text": [
      "Enter some string:ashu\n",
      "String in forward dir:\n",
      "ashu\n",
      "String in backward dir:\n",
      "uhsa"
     ]
    }
   ],
   "source": [
    "#or\n",
    "s=input(\"Enter some string:\")\n",
    "n=len(s)\n",
    "i=0\n",
    "print(\"String in forward dir:\")\n",
    "while i<n:\n",
    "    print(s[i],end='')\n",
    "    i=i+1\n",
    "print()\n",
    "print(\"String in backward dir:\")\n",
    "i=-1\n",
    "while i>=-n:\n",
    "    print(s[i],end='')\n",
    "    i=i-1\n"
   ]
  },
  {
   "cell_type": "markdown",
   "metadata": {},
   "source": [
    "### 3.Membership Operator  in and not in"
   ]
  },
  {
   "cell_type": "code",
   "execution_count": 83,
   "metadata": {},
   "outputs": [],
   "source": [
    "## 1 Program to remove duplicate character\n",
    "## 2 each char how many times is present"
   ]
  },
  {
   "cell_type": "code",
   "execution_count": 84,
   "metadata": {},
   "outputs": [
    {
     "name": "stdout",
     "output_type": "stream",
     "text": [
      "Enter main string: ashlesha datir\n",
      "Enter substring to search: datir\n",
      "datir is found in Main string\n"
     ]
    }
   ],
   "source": [
    "# example1\n",
    "s=input(\"Enter main string: \")\n",
    "subs=input(\"Enter substring to search: \")\n",
    "if subs in s:\n",
    "    print(subs,\"is found in Main string\")\n",
    "else:\n",
    "    print(subs,\"is not found in main string\")"
   ]
  },
  {
   "cell_type": "code",
   "execution_count": 88,
   "metadata": {},
   "outputs": [
    {
     "name": "stdout",
     "output_type": "stream",
     "text": [
      "Enter 1st string: Good\n",
      "Enter 2nd string: Morning\n",
      "1st string is smaller than 2nd\n"
     ]
    }
   ],
   "source": [
    "#example 2\n",
    "s1=input(\"Enter 1st string: \")\n",
    "s2=input(\"Enter 2nd string: \")\n",
    "if s1==s2:\n",
    "    print(\"Both are same string\")\n",
    "elif s1>s2:\n",
    "    print(\"1st sting is greater than 2nd\")\n",
    "else:\n",
    "    print(\"1st string is smaller than 2nd\")"
   ]
  },
  {
   "cell_type": "code",
   "execution_count": null,
   "metadata": {},
   "outputs": [],
   "source": []
  },
  {
   "cell_type": "markdown",
   "metadata": {},
   "source": [
    "### 4 .strip() used to remove spaces\n",
    "1. lstrip ()= remove left side spaces\n",
    "2. rstrip() = remove right side spaces\n",
    "3. strip() = remove spaces from beging and end"
   ]
  },
  {
   "cell_type": "code",
   "execution_count": 98,
   "metadata": {},
   "outputs": [
    {
     "name": "stdout",
     "output_type": "stream",
     "text": [
      "Enter city name:   Pune\n",
      "your city is avilable and ccc atr xxx\n"
     ]
    }
   ],
   "source": [
    "city=input(\"Enter city name: \")\n",
    "list=[\"Hyd\",\"Delhi\",\"Mumbai\",\"Pune\"]\n",
    "if city.strip() in list:\n",
    "    print(\"your city is avilable and ccc atr xxx\")\n",
    "else:\n",
    "    print(city,\"Not avilable.....plz enter valid city name\")"
   ]
  },
  {
   "cell_type": "code",
   "execution_count": 101,
   "metadata": {},
   "outputs": [
    {
     "name": "stdout",
     "output_type": "stream",
     "text": [
      "Enter city name:   pune\n",
      "city: pune\n"
     ]
    }
   ],
   "source": [
    "city=input(\"Enter city name: \")\n",
    "print(\"city:\" ,city.strip())"
   ]
  },
  {
   "cell_type": "code",
   "execution_count": null,
   "metadata": {},
   "outputs": [],
   "source": []
  },
  {
   "cell_type": "markdown",
   "metadata": {},
   "source": [
    "### 5.Finding Substring\n",
    "* find()index()"
   ]
  },
  {
   "cell_type": "code",
   "execution_count": 108,
   "metadata": {},
   "outputs": [
    {
     "name": "stdout",
     "output_type": "stream",
     "text": [
      "Datir:  27\n",
      "datir:  4\n"
     ]
    }
   ],
   "source": [
    "s='ashudatirashudatirashudatirDatir'\n",
    "print(\"Datir: \",s.find('Datir'))\n",
    "print(\"datir: \",s.find('datir'))"
   ]
  },
  {
   "cell_type": "code",
   "execution_count": 109,
   "metadata": {},
   "outputs": [
    {
     "name": "stdout",
     "output_type": "stream",
     "text": [
      "Zennu:  -1\n"
     ]
    }
   ],
   "source": [
    "print(\"Zennu: \",s.find('zennu'))## Whene there is no avilable it return -1"
   ]
  },
  {
   "cell_type": "code",
   "execution_count": 111,
   "metadata": {},
   "outputs": [
    {
     "name": "stdout",
     "output_type": "stream",
     "text": [
      "22\n"
     ]
    }
   ],
   "source": [
    "print(s.rfind('datir')) ## rfind gives +ve it is present and return -ve when it is not present"
   ]
  },
  {
   "cell_type": "code",
   "execution_count": 112,
   "metadata": {},
   "outputs": [
    {
     "name": "stdout",
     "output_type": "stream",
     "text": [
      "2\n"
     ]
    }
   ],
   "source": [
    "s=\"Learning python aaaa is very very easy\"\n",
    "print(s.find('a'))"
   ]
  },
  {
   "cell_type": "code",
   "execution_count": 113,
   "metadata": {},
   "outputs": [
    {
     "name": "stdout",
     "output_type": "stream",
     "text": [
      "-1\n"
     ]
    }
   ],
   "source": [
    "print(s.find('z'))"
   ]
  },
  {
   "cell_type": "code",
   "execution_count": 114,
   "metadata": {},
   "outputs": [
    {
     "name": "stdout",
     "output_type": "stream",
     "text": [
      "8\n"
     ]
    }
   ],
   "source": [
    "print(s.find(' '))"
   ]
  },
  {
   "cell_type": "code",
   "execution_count": 115,
   "metadata": {},
   "outputs": [
    {
     "name": "stdout",
     "output_type": "stream",
     "text": [
      "16\n"
     ]
    }
   ],
   "source": [
    "print(s.find('a',5,35))    ##s.find(substring,ebgin,end)"
   ]
  },
  {
   "cell_type": "code",
   "execution_count": 117,
   "metadata": {},
   "outputs": [
    {
     "name": "stdout",
     "output_type": "stream",
     "text": [
      "19\n"
     ]
    }
   ],
   "source": [
    "print(s.rfind('a',5,35))"
   ]
  },
  {
   "cell_type": "code",
   "execution_count": 119,
   "metadata": {},
   "outputs": [
    {
     "ename": "ValueError",
     "evalue": "substring not found",
     "output_type": "error",
     "traceback": [
      "\u001b[1;31m---------------------------------------------------------------------------\u001b[0m",
      "\u001b[1;31mValueError\u001b[0m                                Traceback (most recent call last)",
      "\u001b[1;32m<ipython-input-119-6ecc635d0a0c>\u001b[0m in \u001b[0;36m<module>\u001b[1;34m\u001b[0m\n\u001b[0;32m      1\u001b[0m \u001b[1;31m## ValueError: substring not found\u001b[0m\u001b[1;33m\u001b[0m\u001b[1;33m\u001b[0m\u001b[1;33m\u001b[0m\u001b[0m\n\u001b[1;32m----> 2\u001b[1;33m \u001b[0mprint\u001b[0m\u001b[1;33m(\u001b[0m\u001b[0ms\u001b[0m\u001b[1;33m.\u001b[0m\u001b[0mindex\u001b[0m\u001b[1;33m(\u001b[0m\u001b[1;34m'z'\u001b[0m\u001b[1;33m)\u001b[0m\u001b[1;33m)\u001b[0m\u001b[1;33m\u001b[0m\u001b[1;33m\u001b[0m\u001b[0m\n\u001b[0m",
      "\u001b[1;31mValueError\u001b[0m: substring not found"
     ]
    }
   ],
   "source": [
    "## ValueError: substring not found\n",
    "print(s.index('z'))"
   ]
  },
  {
   "cell_type": "code",
   "execution_count": null,
   "metadata": {},
   "outputs": [],
   "source": []
  },
  {
   "cell_type": "markdown",
   "metadata": {},
   "source": [
    "## Difference between index and find\n",
    "===>> There is only one difference between index and find i.e \n",
    "       find return - when that letter is not present in string whereas\n",
    "       index return value error when the letter is not present in string"
   ]
  },
  {
   "cell_type": "markdown",
   "metadata": {},
   "source": [
    "*    s.find(substring)\n",
    "*   s.find(substring,begin,end)\n",
    "*    s.rfind(substring)\n",
    "*    s.rfind(substring,begin,end)"
   ]
  },
  {
   "cell_type": "code",
   "execution_count": null,
   "metadata": {},
   "outputs": [],
   "source": []
  },
  {
   "cell_type": "markdown",
   "metadata": {},
   "source": [
    "### 6.Exceptional Handling"
   ]
  },
  {
   "cell_type": "code",
   "execution_count": 2,
   "metadata": {},
   "outputs": [
    {
     "name": "stdout",
     "output_type": "stream",
     "text": [
      "Enter main string: ashu datir\n",
      "Enter substring: hu dat\n",
      "substring is present in the string\n"
     ]
    }
   ],
   "source": [
    "s=input(\"Enter main string: \")\n",
    "subs=input(\"Enter substring: \")\n",
    "try:\n",
    "    n=s.index(subs)\n",
    "except ValueError:\n",
    "    print(\"substring is not found in the main string\")\n",
    "else:\n",
    "    print(\"substring is present in the string\")"
   ]
  },
  {
   "cell_type": "code",
   "execution_count": null,
   "metadata": {},
   "outputs": [],
   "source": []
  },
  {
   "cell_type": "markdown",
   "metadata": {},
   "source": [
    "### 7.Counting substrings in the given string:\n",
    "* s.count(substring)\n",
    "* s.count(substring,begin,end)"
   ]
  },
  {
   "cell_type": "code",
   "execution_count": 4,
   "metadata": {},
   "outputs": [
    {
     "name": "stdout",
     "output_type": "stream",
     "text": [
      "4\n",
      "2\n"
     ]
    }
   ],
   "source": [
    "s='goodmorninggoodmorninggoodmorninggoodmorning'\n",
    "print(s.count('good'))\n",
    "print(s.count('good',15,len(s)))"
   ]
  },
  {
   "cell_type": "markdown",
   "metadata": {},
   "source": [
    "### 8.Replacing a string with another string\n",
    "* syntax=s.replace(oldstring,newstring)"
   ]
  },
  {
   "cell_type": "code",
   "execution_count": 5,
   "metadata": {},
   "outputs": [
    {
     "name": "stdout",
     "output_type": "stream",
     "text": [
      "Learning python is very difficult\n",
      "Learning python is very easy\n"
     ]
    }
   ],
   "source": [
    "s=\"Learning python is very difficult\"\n",
    "print(s)\n",
    "S=s.replace(\"difficult\",\"easy\")\n",
    "print(S)"
   ]
  },
  {
   "cell_type": "code",
   "execution_count": 6,
   "metadata": {},
   "outputs": [
    {
     "name": "stdout",
     "output_type": "stream",
     "text": [
      "ababababab address is:  1721984534640\n",
      "bbbbbbbbbb address is:  1721984351792\n"
     ]
    }
   ],
   "source": [
    "s='ababababab'\n",
    "s1=s.replace('a','b')\n",
    "print(s,\"address is: \",id(s))\n",
    "print(s1,\"address is: \",id(s1))"
   ]
  },
  {
   "cell_type": "code",
   "execution_count": null,
   "metadata": {},
   "outputs": [],
   "source": []
  },
  {
   "cell_type": "markdown",
   "metadata": {},
   "source": [
    "### 9.Spliting of string\n",
    "* s.split(seperator)"
   ]
  },
  {
   "cell_type": "code",
   "execution_count": 15,
   "metadata": {},
   "outputs": [
    {
     "name": "stdout",
     "output_type": "stream",
     "text": [
      "<class 'list'>\n",
      "02\n",
      "03\n",
      "2020\n"
     ]
    }
   ],
   "source": [
    "s='02-03-2020'\n",
    "A=s.split('-')\n",
    "print(type(A))\n",
    "for x in A:\n",
    "    print(x)"
   ]
  },
  {
   "cell_type": "code",
   "execution_count": null,
   "metadata": {},
   "outputs": [],
   "source": []
  },
  {
   "cell_type": "markdown",
   "metadata": {},
   "source": [
    "### How we can differentiate sep=' ' and s.split()\n",
    " * split is applicable related to string concept but\n",
    "sep is applicable related to print(x,y,z,a)"
   ]
  },
  {
   "cell_type": "code",
   "execution_count": 16,
   "metadata": {},
   "outputs": [
    {
     "name": "stdout",
     "output_type": "stream",
     "text": [
      "My\n",
      "name\n",
      "is\n",
      "ashlesha\n",
      "datir\n"
     ]
    }
   ],
   "source": [
    "s=\"My name is ashlesha datir\"\n",
    "l=s.split(' ',4)\n",
    "for x in l:\n",
    "    print(x)"
   ]
  },
  {
   "cell_type": "code",
   "execution_count": 18,
   "metadata": {},
   "outputs": [
    {
     "name": "stdout",
     "output_type": "stream",
     "text": [
      "My name\n",
      "is\n",
      "ashlesha\n",
      "datir\n"
     ]
    }
   ],
   "source": [
    "## Reverse == r\n",
    "s=\"My name is ashlesha datir\"\n",
    "l=s.rsplit(' ',3)\n",
    "for x in l:\n",
    "    print(x)"
   ]
  },
  {
   "cell_type": "code",
   "execution_count": 20,
   "metadata": {},
   "outputs": [
    {
     "name": "stdout",
     "output_type": "stream",
     "text": [
      "10\n",
      "20\n",
      "30\n",
      "40,50,60\n"
     ]
    }
   ],
   "source": [
    "#Forward direction\n",
    "s=\"10,20,30,40,50,60\"\n",
    "l=s.split(',',3)\n",
    "for x in l:\n",
    "    print(x)"
   ]
  },
  {
   "cell_type": "code",
   "execution_count": 21,
   "metadata": {},
   "outputs": [
    {
     "name": "stdout",
     "output_type": "stream",
     "text": [
      "10,20,30\n",
      "40\n",
      "50\n",
      "60\n"
     ]
    }
   ],
   "source": [
    "#Backword split\n",
    "s=\"10,20,30,40,50,60\"\n",
    "l=s.rsplit(',',3)\n",
    "for x in l:\n",
    "    print(x)"
   ]
  },
  {
   "cell_type": "code",
   "execution_count": null,
   "metadata": {},
   "outputs": [],
   "source": []
  },
  {
   "cell_type": "markdown",
   "metadata": {},
   "source": [
    "### 9.Join in string\n",
    "* s=seperator.join(l)"
   ]
  },
  {
   "cell_type": "code",
   "execution_count": 26,
   "metadata": {},
   "outputs": [
    {
     "name": "stdout",
     "output_type": "stream",
     "text": [
      "java-python-C-c++\n"
     ]
    }
   ],
   "source": [
    "#List\n",
    "l=[\"java\",\"python\",\"C\",\"c++\"]\n",
    "s='-'.join(l)\n",
    "print(s)"
   ]
  },
  {
   "cell_type": "code",
   "execution_count": 28,
   "metadata": {},
   "outputs": [
    {
     "name": "stdout",
     "output_type": "stream",
     "text": [
      "python is very easy language\n"
     ]
    }
   ],
   "source": [
    "#Tuple\n",
    "l=('python','is','very','easy','language')\n",
    "s=' '.join(l)\n",
    "print(s)"
   ]
  },
  {
   "cell_type": "code",
   "execution_count": null,
   "metadata": {},
   "outputs": [],
   "source": []
  },
  {
   "cell_type": "markdown",
   "metadata": {},
   "source": [
    "### 10.Changing case of a string\n",
    "* Upper()  ====> To convert to upper case\n",
    "* lower()  ====> To convert to lower case\n",
    "* swapcase() ===> Intergerchange\n",
    "* title() ====> every word start with uppercase and other is lowercase\n",
    "* capitalize ====> only fist letter is start with capital"
   ]
  },
  {
   "cell_type": "code",
   "execution_count": 29,
   "metadata": {},
   "outputs": [
    {
     "name": "stdout",
     "output_type": "stream",
     "text": [
      "Enter any string:Python is very easy language\n",
      "PYTHON IS VERY EASY LANGUAGE\n",
      "python is very easy language\n",
      "Python Is Very Easy Language\n",
      "Python is very easy language\n",
      "pYTHON IS VERY EASY LANGUAGE\n"
     ]
    }
   ],
   "source": [
    "s=input(\"Enter any string:\")\n",
    "print(s.upper())\n",
    "print(s.lower())\n",
    "print(s.title())\n",
    "print(s.capitalize())\n",
    "print(s.swapcase())"
   ]
  },
  {
   "cell_type": "code",
   "execution_count": null,
   "metadata": {},
   "outputs": [],
   "source": []
  },
  {
   "cell_type": "markdown",
   "metadata": {},
   "source": [
    "### 11.Checking starting and ending part of stiring\n",
    "* s.startswith()\n",
    "* s.endswith()"
   ]
  },
  {
   "cell_type": "code",
   "execution_count": 34,
   "metadata": {},
   "outputs": [
    {
     "name": "stdout",
     "output_type": "stream",
     "text": [
      "True\n",
      "False\n"
     ]
    }
   ],
   "source": [
    "s=\"Learning python is a very interesting\"\n",
    "print(s.startswith('Learning'))\n",
    "print(s.endswith(\"very\"))"
   ]
  },
  {
   "cell_type": "markdown",
   "metadata": {},
   "source": [
    "* isalnum() ==> only alphabet char a-z, A-Z , 0-9\n",
    "* isalpha == only alphabet \n",
    "* isdigit()\n",
    "* islower()\n",
    "* isupper()\n",
    "* istitle()\n",
    "* isspace()"
   ]
  },
  {
   "cell_type": "code",
   "execution_count": 38,
   "metadata": {},
   "outputs": [
    {
     "name": "stdout",
     "output_type": "stream",
     "text": [
      "enter some name or digit:good 123\n",
      "True\n",
      "True\n",
      "False\n",
      "True\n",
      "False\n",
      "False\n"
     ]
    }
   ],
   "source": [
    "s=input(\"enter some name or digit:\")\n",
    "print('s'.isalnum())\n",
    "print('s'.isalpha())\n",
    "print('s'.isdigit())\n",
    "print('s'.islower())\n",
    "print('s'.isupper())\n",
    "print('s'.isspace())"
   ]
  },
  {
   "cell_type": "code",
   "execution_count": null,
   "metadata": {},
   "outputs": [],
   "source": []
  },
  {
   "cell_type": "markdown",
   "metadata": {},
   "source": [
    "### 12.Formatting String"
   ]
  },
  {
   "cell_type": "code",
   "execution_count": 40,
   "metadata": {},
   "outputs": [
    {
     "name": "stdout",
     "output_type": "stream",
     "text": [
      "Rama's Age is 40 and his salary is: 10000\n",
      "Rama's Age is 40 and his salary is: 10000\n",
      "Rama's Age is 40 and his salary is: 10000\n"
     ]
    }
   ],
   "source": [
    "name='Rama'\n",
    "age=40\n",
    "salary=10000\n",
    "print(\"{}'s Age is {} and his salary is: {}\".format(name,age,salary))\n",
    "print(\"{0}'s Age is {1} and his salary is: {2}\".format(name,age,salary))\n",
    "print(\"{x}'s Age is {y} and his salary is: {z}\".format(z=salary,x=name,y=age))"
   ]
  },
  {
   "cell_type": "code",
   "execution_count": null,
   "metadata": {},
   "outputs": [],
   "source": []
  },
  {
   "cell_type": "markdown",
   "metadata": {},
   "source": [
    "### 11. Program to reverse the given string"
   ]
  },
  {
   "cell_type": "markdown",
   "metadata": {},
   "source": [
    "* 1St way to reverse"
   ]
  },
  {
   "cell_type": "code",
   "execution_count": 41,
   "metadata": {},
   "outputs": [
    {
     "name": "stdout",
     "output_type": "stream",
     "text": [
      "enter some string:Sun is the star\n",
      "rats eht si nuS\n"
     ]
    }
   ],
   "source": [
    "s=input(\"enter some string:\")\n",
    "print(s[::-1])"
   ]
  },
  {
   "cell_type": "markdown",
   "metadata": {},
   "source": [
    "* 2nd way to reversed but it does not give excepted result "
   ]
  },
  {
   "cell_type": "code",
   "execution_count": 43,
   "metadata": {},
   "outputs": [
    {
     "name": "stdout",
     "output_type": "stream",
     "text": [
      "enter some string:sun is the star\n",
      "<reversed object at 0x00000190EE43BE20>\n"
     ]
    }
   ],
   "source": [
    "s=input(\"enter some string:\")\n",
    "print(reversed(s))"
   ]
  },
  {
   "cell_type": "markdown",
   "metadata": {},
   "source": [
    "* 3rd way to get reversed reversed"
   ]
  },
  {
   "cell_type": "code",
   "execution_count": 46,
   "metadata": {
    "scrolled": true
   },
   "outputs": [
    {
     "name": "stdout",
     "output_type": "stream",
     "text": [
      "Enter some string:sunday\n",
      "s\n",
      "u\n",
      "n\n",
      "d\n",
      "a\n",
      "y\n"
     ]
    }
   ],
   "source": [
    "s=input(\"Enter some string:\")\n",
    "for x in (s):\n",
    "    print(x)"
   ]
  },
  {
   "cell_type": "markdown",
   "metadata": {},
   "source": [
    "* 4th way to get reversed"
   ]
  },
  {
   "cell_type": "code",
   "execution_count": 45,
   "metadata": {},
   "outputs": [
    {
     "name": "stdout",
     "output_type": "stream",
     "text": [
      "enter some string:I love to learn new things\n",
      "sgniht wen nrael ot evol I\n"
     ]
    }
   ],
   "source": [
    "s=input(\"enter some string:\")\n",
    "print(''.join(reversed(s)))"
   ]
  },
  {
   "cell_type": "markdown",
   "metadata": {},
   "source": [
    "* 5th way"
   ]
  },
  {
   "cell_type": "code",
   "execution_count": 47,
   "metadata": {},
   "outputs": [
    {
     "name": "stdout",
     "output_type": "stream",
     "text": [
      "enter some string:ashu\n",
      "uhsa"
     ]
    }
   ],
   "source": [
    "s=input(\"enter some string:\")\n",
    "for x in reversed(s):\n",
    "    print(x,end='')"
   ]
  },
  {
   "cell_type": "markdown",
   "metadata": {},
   "source": [
    "* 6th way"
   ]
  },
  {
   "cell_type": "code",
   "execution_count": 48,
   "metadata": {},
   "outputs": [
    {
     "name": "stdout",
     "output_type": "stream",
     "text": [
      "enter some string:Goodmorning\n",
      "gninromdoo\n"
     ]
    }
   ],
   "source": [
    "s=input(\"enter some string:\")\n",
    "i=len(s)-1\n",
    "output=''\n",
    "while i>0:\n",
    "    output=output+s[i]\n",
    "    i=i-1\n",
    "print(output)"
   ]
  },
  {
   "cell_type": "code",
   "execution_count": null,
   "metadata": {},
   "outputs": [],
   "source": []
  },
  {
   "cell_type": "markdown",
   "metadata": {},
   "source": [
    "### 12.To remove duplicates present in the string\n",
    "* input :ABCABCABCABCABCABCABC\n",
    "* output :abc"
   ]
  },
  {
   "cell_type": "code",
   "execution_count": 49,
   "metadata": {},
   "outputs": [
    {
     "name": "stdout",
     "output_type": "stream",
     "text": [
      "enter some string:ABCABCABCABCABCABCABC\n",
      "ABC\n"
     ]
    }
   ],
   "source": [
    "s=input(\"enter some string:\")\n",
    "l=[]\n",
    "for x in s:\n",
    "    if x not in l:\n",
    "        l.append(x)\n",
    "output=''.join(l)\n",
    "print(output)"
   ]
  },
  {
   "cell_type": "markdown",
   "metadata": {},
   "source": [
    "#### Using set is easy but order is not take"
   ]
  },
  {
   "cell_type": "code",
   "execution_count": 51,
   "metadata": {},
   "outputs": [
    {
     "name": "stdout",
     "output_type": "stream",
     "text": [
      "enter some string:abcabcsdjaabs\n",
      "bacdjs\n"
     ]
    }
   ],
   "source": [
    "s=input(\"enter some string:\")\n",
    "print(''.join(set(s)))"
   ]
  },
  {
   "cell_type": "code",
   "execution_count": 54,
   "metadata": {},
   "outputs": [
    {
     "name": "stdout",
     "output_type": "stream",
     "text": [
      "enter some string:aasjsi\n"
     ]
    },
    {
     "data": {
      "text/plain": [
       "{'a', 'i', 'j', 's'}"
      ]
     },
     "execution_count": 54,
     "metadata": {},
     "output_type": "execute_result"
    }
   ],
   "source": [
    "s=input(\"enter some string:\")\n",
    "set(s)"
   ]
  },
  {
   "cell_type": "code",
   "execution_count": null,
   "metadata": {},
   "outputs": [],
   "source": []
  },
  {
   "cell_type": "code",
   "execution_count": null,
   "metadata": {},
   "outputs": [],
   "source": []
  },
  {
   "cell_type": "code",
   "execution_count": null,
   "metadata": {},
   "outputs": [],
   "source": []
  },
  {
   "cell_type": "code",
   "execution_count": null,
   "metadata": {},
   "outputs": [],
   "source": []
  },
  {
   "cell_type": "code",
   "execution_count": null,
   "metadata": {},
   "outputs": [],
   "source": []
  },
  {
   "cell_type": "code",
   "execution_count": null,
   "metadata": {},
   "outputs": [],
   "source": []
  }
 ],
 "metadata": {
  "kernelspec": {
   "display_name": "Python 3",
   "language": "python",
   "name": "python3"
  },
  "language_info": {
   "codemirror_mode": {
    "name": "ipython",
    "version": 3
   },
   "file_extension": ".py",
   "mimetype": "text/x-python",
   "name": "python",
   "nbconvert_exporter": "python",
   "pygments_lexer": "ipython3",
   "version": "3.8.5"
  }
 },
 "nbformat": 4,
 "nbformat_minor": 4
}
